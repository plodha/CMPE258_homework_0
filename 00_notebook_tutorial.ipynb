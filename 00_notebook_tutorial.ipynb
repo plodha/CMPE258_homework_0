{
  "nbformat": 4,
  "nbformat_minor": 0,
  "metadata": {
    "colab": {
      "name": "00_notebook_tutorial.ipynb",
      "provenance": [],
      "authorship_tag": "ABX9TyP+5RIKh8ukHAESC5DSpdWY",
      "include_colab_link": true
    },
    "kernelspec": {
      "name": "python3",
      "display_name": "Python 3"
    },
    "accelerator": "GPU"
  },
  "cells": [
    {
      "cell_type": "markdown",
      "metadata": {
        "id": "view-in-github",
        "colab_type": "text"
      },
      "source": [
        "<a href=\"https://colab.research.google.com/github/plodha/CMPE258_homework_0/blob/master/00_notebook_tutorial.ipynb\" target=\"_parent\"><img src=\"https://colab.research.google.com/assets/colab-badge.svg\" alt=\"Open In Colab\"/></a>"
      ]
    },
    {
      "cell_type": "code",
      "metadata": {
        "id": "bk2hTSSLHyY6",
        "colab_type": "code",
        "colab": {
          "base_uri": "https://localhost:8080/",
          "height": 34
        },
        "outputId": "a931425a-2183-453f-ae8d-2872e1c5932b"
      },
      "source": [
        "1 + 1"
      ],
      "execution_count": 1,
      "outputs": [
        {
          "output_type": "execute_result",
          "data": {
            "text/plain": [
              "2"
            ]
          },
          "metadata": {
            "tags": []
          },
          "execution_count": 1
        }
      ]
    },
    {
      "cell_type": "markdown",
      "metadata": {
        "id": "d5I6c55CIGx3",
        "colab_type": "text"
      },
      "source": [
        "My first markdown cell"
      ]
    },
    {
      "cell_type": "code",
      "metadata": {
        "id": "pQr0j3rnILsP",
        "colab_type": "code",
        "colab": {
          "base_uri": "https://localhost:8080/",
          "height": 34
        },
        "outputId": "2569e7bf-641d-4752-e2b6-7a0075a9e53a"
      },
      "source": [
        "3/2"
      ],
      "execution_count": 1,
      "outputs": [
        {
          "output_type": "execute_result",
          "data": {
            "text/plain": [
              "1.5"
            ]
          },
          "metadata": {
            "tags": []
          },
          "execution_count": 1
        }
      ]
    },
    {
      "cell_type": "markdown",
      "metadata": {
        "id": "8G7RGeBUISXT",
        "colab_type": "text"
      },
      "source": [
        "**This is my first bold markdown**"
      ]
    },
    {
      "cell_type": "markdown",
      "metadata": {
        "id": "wZpb-X3RIdZg",
        "colab_type": "text"
      },
      "source": [
        "~~Strike~~"
      ]
    },
    {
      "cell_type": "markdown",
      "metadata": {
        "id": "Tne-6G2gI0q8",
        "colab_type": "text"
      },
      "source": [
        "Italics: Surround your text with '_' or '*'\n",
        "Bold: Surround your text with '__' or '**'\n",
        "inline: Surround your text with '`'"
      ]
    }
  ]
}